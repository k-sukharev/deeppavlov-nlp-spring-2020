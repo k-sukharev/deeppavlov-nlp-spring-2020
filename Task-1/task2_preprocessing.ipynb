{
 "cells": [
  {
   "cell_type": "markdown",
   "metadata": {},
   "source": [
    "# Assignment 1.2: Word2vec preprocessing (20 points)"
   ]
  },
  {
   "cell_type": "markdown",
   "metadata": {},
   "source": [
    "Preprocessing is not the most exciting part of NLP, but it is still one of the most important ones. Your task is to preprocess raw text (you can use your own, or [this one](http://mattmahoney.net/dc/text8.zip). For this task text preprocessing mostly consists of:\n",
    "\n",
    "1. cleaning (mostly, if your dataset is from social media or parsed from the internet)\n",
    "1. tokenization\n",
    "1. building the vocabulary and choosing its size. Use only high-frequency words, change all other words to UNK or handle it in your own manner. You can use `collections.Counter` for that.\n",
    "1. assigning each token a number (numericalization). In other words, make word2index и index2word objects.\n",
    "1. data structuring and batching - make X and y matrices generator for word2vec (explained in more details below)\n",
    "\n",
    "**ATTN!:** If you use your own data, please, attach a download link. \n",
    "\n",
    "Your goal is to make **Batcher** class which returns two numpy tensors with word indices. It should be possible to use one for word2vec training. You can implement batcher for Skip-Gram or CBOW architecture, the picture below can be helpful to remember the difference.\n",
    "\n",
    "![text](https://raw.githubusercontent.com/deepmipt/deep-nlp-seminars/651804899d05b96fc72b9474404fab330365ca09/seminar_02/pics/architecture.png)\n",
    "\n",
    "There are several ways to do it right. Shapes could be `x_batch.shape = (batch_size, 2*window_size)`, `y_batch.shape = (batch_size,)` for CBOW or `(batch_size,)`, `(batch_size, 2*window_size)` for Skip-Gram. You should **not** do negative sampling here.\n",
    "\n",
    "They should be adequately parametrized: CBOW(window_size, ...), SkipGram(window_size, ...). You should implement only one batcher in this task; and it's up to you which one to chose.\n",
    "\n",
    "Useful links:\n",
    "1. [Word2Vec Tutorial - The Skip-Gram Model](http://mccormickml.com/2016/04/19/word2vec-tutorial-the-skip-gram-model/)\n",
    "1. [Efficient Estimation of Word Representations in Vector Space](https://arxiv.org/pdf/1301.3781.pdf)\n",
    "1. [Distributed Representations of Words and Phrases and their Compositionality](http://papers.nips.cc/paper/5021-distributed-representations-of-words-and-phrases-and-their-compositionality.pdf)\n",
    "\n",
    "You can write the code in this notebook, or in a separate file. It can be reused for the next task. The result of your work should represent that your batch has a proper structure (right shapes) and content (words should be from one context, not some random indices). To show that, translate indices back to words and print them to show something like this:\n",
    "\n",
    "```\n",
    "text = ['first', 'used', 'against', 'early', 'working', 'class', 'radicals', 'including']\n",
    "\n",
    "window_size = 2\n",
    "\n",
    "# CBOW:\n",
    "indices_to_words(x_batch) = \\\n",
    "        [['first', 'used', 'early', 'working'],\n",
    "        ['used', 'against', 'working', 'class'],\n",
    "        ['against', 'early', 'class', 'radicals'],\n",
    "        ['early', 'working', 'radicals', 'including']]\n",
    "\n",
    "indices_to_words(labels_batch) = ['against', 'early', 'working', 'class']\n",
    "```"
   ]
  },
  {
   "cell_type": "code",
   "execution_count": 1,
   "metadata": {},
   "outputs": [],
   "source": [
    "import numpy as np\n",
    "from pprint import pprint\n",
    "from collections import Counter"
   ]
  },
  {
   "cell_type": "code",
   "execution_count": 2,
   "metadata": {},
   "outputs": [],
   "source": [
    "class CBOWBatcher:\n",
    "    def __init__(\n",
    "        self, corpus, window_size, batch_size,\n",
    "        vocabulary_size=20000\n",
    "    ):\n",
    "        self.corpus = corpus\n",
    "        self.window_size = window_size\n",
    "        self.batch_size = batch_size\n",
    "        self.unk_token = '<UNK>'\n",
    "        self.word2index = {\n",
    "            word: index for index, (word, _)\n",
    "            in enumerate(sorted(Counter(\n",
    "                self.corpus\n",
    "            ).items(), key=lambda x: x[1], reverse=True)[:vocabulary_size-1])\n",
    "        }\n",
    "        self.word2index[self.unk_token] = len(self.word2index)\n",
    "        self.index2word = {\n",
    "            index: word for word, index in self.word2index.items()\n",
    "        }\n",
    "        \n",
    "    def __iter__(self):\n",
    "        # permutatuion to shuffle our data\n",
    "        self.permutation = np.random.permutation(\n",
    "            np.arange(self.window_size, len(self.corpus) - self.window_size)\n",
    "        )\n",
    "        self.batch_number = 0\n",
    "        return self\n",
    "    \n",
    "    def __next__(self):\n",
    "        if self.batch_number < len(self.permutation) / self.batch_size:\n",
    "            X = np.array(\n",
    "                [\n",
    "                    [\n",
    "                        self.word2index.get(self.corpus[j], self.word2index[self.unk_token])\n",
    "                        for j in range(i - self.window_size, i + self.window_size + 1)\n",
    "                        if j != i\n",
    "                    ] for i in self.permutation[self.batch_number * self.batch_size:\n",
    "                                                (self.batch_number + 1) * self.batch_size]\n",
    "                ]\n",
    "            )\n",
    "        \n",
    "            y = np.array(\n",
    "                [\n",
    "                    self.word2index.get(self.corpus[i], self.word2index[self.unk_token])\n",
    "                    for i in self.permutation[self.batch_number * self.batch_size:\n",
    "                                                (self.batch_number + 1) * self.batch_size]\n",
    "                ]\n",
    "            )\n",
    "            self.batch_number += 1\n",
    "            return X, y\n",
    "        else:\n",
    "            raise StopIteration"
   ]
  },
  {
   "cell_type": "code",
   "execution_count": 3,
   "metadata": {},
   "outputs": [],
   "source": [
    "text = ['first', 'used', 'against', 'early', 'working', 'class', 'radicals', 'including']\n",
    "window_size = 2\n",
    "batch_size = 4\n",
    "\n",
    "batcher = CBOWBatcher(text, window_size, batch_size)"
   ]
  },
  {
   "cell_type": "code",
   "execution_count": 4,
   "metadata": {
    "scrolled": true
   },
   "outputs": [
    {
     "name": "stdout",
     "output_type": "stream",
     "text": [
      "X_batch = \n",
      "[[0 1 3 4]\n",
      " [1 2 4 5]\n",
      " [2 3 5 6]\n",
      " [3 4 6 7]]\n",
      "[['first', 'used', 'early', 'working'],\n",
      " ['used', 'against', 'working', 'class'],\n",
      " ['against', 'early', 'class', 'radicals'],\n",
      " ['early', 'working', 'radicals', 'including']]\n",
      "\n",
      "y_batch =  [2 3 4 5]\n",
      "['against', 'early', 'working', 'class']\n",
      "\n"
     ]
    }
   ],
   "source": [
    "def print_batch(X_batch, y_batch):\n",
    "    print('X_batch = ')\n",
    "    print(X_batch)\n",
    "    pprint([[batcher.index2word[x] for x in X] for X in X_batch])\n",
    "    print()\n",
    "    print('y_batch = ', y_batch)\n",
    "    print([batcher.index2word[y] for y in y_batch])\n",
    "    print()\n",
    "\n",
    "for X_batch, y_batch in batcher:\n",
    "    print_batch(X_batch, y_batch)"
   ]
  },
  {
   "cell_type": "code",
   "execution_count": 5,
   "metadata": {},
   "outputs": [],
   "source": [
    "with open('text8') as inf:\n",
    "    corpus = inf.read().split()"
   ]
  },
  {
   "cell_type": "code",
   "execution_count": 6,
   "metadata": {},
   "outputs": [
    {
     "name": "stdout",
     "output_type": "stream",
     "text": [
      "X_batch = \n",
      "[[  296    18 10000     2]\n",
      " [  765     0 10000  2057]\n",
      " [ 1314  3802     5   283]\n",
      " [10000  1413 10000     6]\n",
      " [ 1844   216  1371     0]]\n",
      "[['written', 'by', '<UNK>', 'and'],\n",
      " ['speed', 'the', '<UNK>', 'cars'],\n",
      " ['net', 'servers', 'a', 'player'],\n",
      " ['<UNK>', 'armed', '<UNK>', 'to'],\n",
      " ['swedish', 'military', 'declared', 'the']]\n",
      "\n",
      "y_batch =  [859  50  61 368  46]\n",
      "['richard', 'more', 'when', 'forces', 'they']\n",
      "\n",
      "X_batch = \n",
      "[[   26    73    88     5]\n",
      " [ 1304     2   132   403]\n",
      " [    1  5822 10000  5822]\n",
      " [ 1996    26 10000    34]\n",
      " [    0  5241    31     6]]\n",
      "[['it', 'would', 'called', 'a'],\n",
      " ['standards', 'and', 'same', 'software'],\n",
      " ['of', 'paint', '<UNK>', 'paint'],\n",
      " ['weeks', 'it', '<UNK>', 'at'],\n",
      " ['the', 'default', 'be', 'to']]\n",
      "\n",
      "y_batch =  [ 31   0 364 620 279]\n",
      "['be', 'the', 'especially', 'eventually', 'should']\n",
      "\n"
     ]
    }
   ],
   "source": [
    "window_size = 2\n",
    "batch_size = 5\n",
    "\n",
    "batcher = CBOWBatcher(corpus, window_size, batch_size, vocabulary_size=10000)\n",
    "\n",
    "for i, (X_batch, y_batch) in enumerate(batcher):\n",
    "    print_batch(X_batch, y_batch)\n",
    "    \n",
    "    if i == 1:\n",
    "        break"
   ]
  }
 ],
 "metadata": {
  "kernelspec": {
   "display_name": "Python 3",
   "language": "python",
   "name": "python3"
  },
  "language_info": {
   "codemirror_mode": {
    "name": "ipython",
    "version": 3
   },
   "file_extension": ".py",
   "mimetype": "text/x-python",
   "name": "python",
   "nbconvert_exporter": "python",
   "pygments_lexer": "ipython3",
   "version": "3.7.6"
  }
 },
 "nbformat": 4,
 "nbformat_minor": 2
}
