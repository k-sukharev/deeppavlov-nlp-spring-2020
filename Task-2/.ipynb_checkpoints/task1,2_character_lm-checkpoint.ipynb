{
 "cells": [
  {
   "cell_type": "markdown",
   "metadata": {},
   "source": [
    "# Assignment 2. Language modeling.\n",
    "\n",
    "This task is devoted to language modeling. Its goal is to write in PyTorch an RNN-based language model. Since word-based language modeling requires long training and is memory-consuming due to large vocabulary, we start with character-based language modeling. We are going to train the model to generate words as sequence of characters. During training we teach it to predict characters of the words in the training set.\n",
    "\n",
    "\n",
    "\n",
    "## Task 1. Character-based language modeling: data preparation (15 points)."
   ]
  },
  {
   "cell_type": "markdown",
   "metadata": {},
   "source": [
    "We train the language models on the materials of **Sigmorphon 2018 Shared Task**. First, download the Russian datasets."
   ]
  },
  {
   "cell_type": "code",
   "execution_count": 1,
   "metadata": {
    "scrolled": false
   },
   "outputs": [
    {
     "name": "stdout",
     "output_type": "stream",
     "text": [
      "Will not apply HSTS. The HSTS database must be a regular and non-world-writable file.\n",
      "ERROR: could not open HSTS store at '/home/xfs/.wget-hsts'. HSTS will be disabled.\n",
      "--2020-04-05 14:38:28--  https://raw.githubusercontent.com/sigmorphon/conll2018/master/task1/surprise/russian-train-high\n",
      "Loaded CA certificate '/etc/ssl/certs/ca-certificates.crt'\n",
      "Resolving raw.githubusercontent.com (raw.githubusercontent.com)... 151.101.244.133\n",
      "Connecting to raw.githubusercontent.com (raw.githubusercontent.com)|151.101.244.133|:443... connected.\n",
      "HTTP request sent, awaiting response... 200 OK\n",
      "Length: 533309 (521K) [text/plain]\n",
      "Saving to: ‘russian-train-high.7’\n",
      "\n",
      "russian-train-high. 100%[===================>] 520,81K  2,23MB/s    in 0,2s    \n",
      "\n",
      "2020-04-05 14:38:29 (2,23 MB/s) - ‘russian-train-high.7’ saved [533309/533309]\n",
      "\n",
      "Will not apply HSTS. The HSTS database must be a regular and non-world-writable file.\n",
      "ERROR: could not open HSTS store at '/home/xfs/.wget-hsts'. HSTS will be disabled.\n",
      "--2020-04-05 14:38:29--  https://raw.githubusercontent.com/sigmorphon/conll2018/master/task1/surprise/russian-dev\n",
      "Loaded CA certificate '/etc/ssl/certs/ca-certificates.crt'\n",
      "Resolving raw.githubusercontent.com (raw.githubusercontent.com)... 151.101.244.133\n",
      "Connecting to raw.githubusercontent.com (raw.githubusercontent.com)|151.101.244.133|:443... connected.\n",
      "HTTP request sent, awaiting response... 200 OK\n",
      "Length: 53671 (52K) [text/plain]\n",
      "Saving to: ‘russian-dev.7’\n",
      "\n",
      "russian-dev.7       100%[===================>]  52,41K  --.-KB/s    in 0,09s   \n",
      "\n",
      "2020-04-05 14:38:29 (595 KB/s) - ‘russian-dev.7’ saved [53671/53671]\n",
      "\n",
      "Will not apply HSTS. The HSTS database must be a regular and non-world-writable file.\n",
      "ERROR: could not open HSTS store at '/home/xfs/.wget-hsts'. HSTS will be disabled.\n",
      "--2020-04-05 14:38:29--  https://raw.githubusercontent.com/sigmorphon/conll2018/master/task1/surprise/russian-test\n",
      "Loaded CA certificate '/etc/ssl/certs/ca-certificates.crt'\n",
      "Resolving raw.githubusercontent.com (raw.githubusercontent.com)... 151.101.244.133\n",
      "Connecting to raw.githubusercontent.com (raw.githubusercontent.com)|151.101.244.133|:443... connected.\n",
      "HTTP request sent, awaiting response... 200 OK\n",
      "Length: 53514 (52K) [text/plain]\n",
      "Saving to: ‘russian-test.7’\n",
      "\n",
      "russian-test.7      100%[===================>]  52,26K  --.-KB/s    in 0,09s   \n",
      "\n",
      "2020-04-05 14:38:30 (605 KB/s) - ‘russian-test.7’ saved [53514/53514]\n",
      "\n"
     ]
    }
   ],
   "source": [
    "!wget https://raw.githubusercontent.com/sigmorphon/conll2018/master/task1/surprise/russian-train-high\n",
    "!wget https://raw.githubusercontent.com/sigmorphon/conll2018/master/task1/surprise/russian-dev\n",
    "!wget https://raw.githubusercontent.com/sigmorphon/conll2018/master/task1/surprise/russian-test"
   ]
  },
  {
   "cell_type": "markdown",
   "metadata": {},
   "source": [
    "**1.1 (1 points)**\n",
    "All the files contain tab-separated triples ```<lemma>-<form>-<tags>```, where ```<form>``` may contain spaces (*будете соответствовать*). Write a function that loads a list of all word forms, that do not contain spaces.  "
   ]
  },
  {
   "cell_type": "code",
   "execution_count": 2,
   "metadata": {},
   "outputs": [],
   "source": [
    "def read_infile(infile):\n",
    "    words = []\n",
    "    with open(infile) as inf:\n",
    "        for line in inf:\n",
    "            _, form, _ = line.split('\\t')\n",
    "            if ' ' not in form:\n",
    "                words.append(form)\n",
    "    return words"
   ]
  },
  {
   "cell_type": "code",
   "execution_count": 3,
   "metadata": {},
   "outputs": [
    {
     "name": "stdout",
     "output_type": "stream",
     "text": [
      "9213 917 922\n",
      "валлонскому незаконченным истрёпывав личного серьгам необоснованным тюти заросла идеальна гулкой\n"
     ]
    }
   ],
   "source": [
    "train_words = read_infile(\"russian-train-high\")\n",
    "dev_words = read_infile(\"russian-dev\")\n",
    "test_words = read_infile(\"russian-test\")\n",
    "print(len(train_words), len(dev_words), len(test_words))\n",
    "print(*train_words[:10])"
   ]
  },
  {
   "cell_type": "markdown",
   "metadata": {},
   "source": [
    "**1.2 (2 points)** Write a **Vocabulary** class that allows to transform symbols into their indexes. The class should have the method ```__call__``` that applies this transformation to sequences of symbols and batches of sequences as well. You can also use [SimpleVocabulary](https://github.com/deepmipt/DeepPavlov/blob/c10b079b972493220c82a643d47d718d5358c7f4/deeppavlov/core/data/simple_vocab.py#L31) from DeepPavlov. Fit an instance of this class on the training data."
   ]
  },
  {
   "cell_type": "code",
   "execution_count": 4,
   "metadata": {
    "scrolled": true
   },
   "outputs": [
    {
     "name": "stderr",
     "output_type": "stream",
     "text": [
      "2020-04-05 14:38:30.362 WARNING in 'deeppavlov.core.models.serializable'['serializable'] at line 49: No load path is set for SimpleVocabulary in 'infer' mode. Using save path instead\n"
     ]
    },
    {
     "name": "stdout",
     "output_type": "stream",
     "text": [
      "53\n"
     ]
    }
   ],
   "source": [
    "from deeppavlov.core.data.simple_vocab import SimpleVocabulary\n",
    "\n",
    "vocab = SimpleVocabulary(special_tokens=['UNK', 'BEGIN', 'END', 'PAD'], unk_token='UNK', save_path='vocab')\n",
    "vocab.fit([list(x) for x in train_words])\n",
    "print(len(vocab))"
   ]
  },
  {
   "cell_type": "markdown",
   "metadata": {},
   "source": [
    "**1.3 (2 points)** Write a **Dataset** class, which should be inherited from ```torch.utils.data.Dataset```. It should take a list of words and the ```vocab``` as initialization arguments."
   ]
  },
  {
   "cell_type": "code",
   "execution_count": 5,
   "metadata": {},
   "outputs": [],
   "source": [
    "import torch\n",
    "from torch.utils.data import Dataset as TorchDataset\n",
    "\n",
    "class Dataset(TorchDataset):\n",
    "    \n",
    "    \"\"\"Custom data.Dataset compatible with data.DataLoader.\"\"\"\n",
    "    def __init__(self, data, vocab):\n",
    "        self.data = data\n",
    "        self.vocab = vocab\n",
    "\n",
    "    def __getitem__(self, index):\n",
    "        \"\"\"\n",
    "        Returns one tensor pair (source and target). The source tensor corresponds to the input word,\n",
    "        with \"BEGIN\" and \"END\" symbols attached. The target tensor should contain the answers\n",
    "        for the language model that obtain these word as input.        \n",
    "        \"\"\"\n",
    "        chars = list(self.data[index])\n",
    "        return (\n",
    "            torch.LongTensor(self.vocab(['BEGIN']) + self.vocab(chars)),\n",
    "            torch.LongTensor(self.vocab(chars) + self.vocab(['END']))\n",
    "        )\n",
    "\n",
    "    def __len__(self):\n",
    "        return len(self.data)"
   ]
  },
  {
   "cell_type": "code",
   "execution_count": 6,
   "metadata": {},
   "outputs": [],
   "source": [
    "train_dataset = Dataset(train_words, vocab)\n",
    "dev_dataset = Dataset(dev_words, vocab)\n",
    "test_dataset = Dataset(test_words, vocab)"
   ]
  },
  {
   "cell_type": "code",
   "execution_count": 7,
   "metadata": {},
   "outputs": [
    {
     "data": {
      "text/plain": [
       "(tensor([ 1, 12,  5, 13, 13,  4,  8, 10, 15,  4, 14, 17]),\n",
       " tensor([12,  5, 13, 13,  4,  8, 10, 15,  4, 14, 17,  2]))"
      ]
     },
     "execution_count": 7,
     "metadata": {},
     "output_type": "execute_result"
    }
   ],
   "source": [
    "train_dataset[0]"
   ]
  },
  {
   "cell_type": "markdown",
   "metadata": {},
   "source": [
    "**1.4 (3 points)** Use a standard ```torch.utils.data.DataLoader``` to obtain an iterable over batches. Print the shape of first 10 input batches with ```batch_size=1```."
   ]
  },
  {
   "cell_type": "code",
   "execution_count": 8,
   "metadata": {
    "scrolled": true
   },
   "outputs": [
    {
     "name": "stdout",
     "output_type": "stream",
     "text": [
      "X shape: torch.Size([1, 15])\ty shape: torch.Size([1, 15])\n",
      "X shape: torch.Size([1, 11])\ty shape: torch.Size([1, 11])\n",
      "X shape: torch.Size([1, 14])\ty shape: torch.Size([1, 14])\n",
      "X shape: torch.Size([1, 12])\ty shape: torch.Size([1, 12])\n",
      "X shape: torch.Size([1, 12])\ty shape: torch.Size([1, 12])\n",
      "X shape: torch.Size([1, 15])\ty shape: torch.Size([1, 15])\n",
      "X shape: torch.Size([1, 12])\ty shape: torch.Size([1, 12])\n",
      "X shape: torch.Size([1, 15])\ty shape: torch.Size([1, 15])\n",
      "X shape: torch.Size([1, 10])\ty shape: torch.Size([1, 10])\n",
      "X shape: torch.Size([1, 9])\ty shape: torch.Size([1, 9])\n"
     ]
    }
   ],
   "source": [
    "from torch.utils.data import DataLoader\n",
    "\n",
    "train_loader = DataLoader(train_dataset, batch_size=1, shuffle=True)\n",
    "\n",
    "for i, (X, y) in enumerate(train_loader):\n",
    "    if i == 10:\n",
    "        break\n",
    "    print(f'X shape: {X.shape}\\ty shape: {y.shape}')"
   ]
  },
  {
   "cell_type": "markdown",
   "metadata": {},
   "source": [
    "**(1.5) 1 point** Explain, why this does not work with larger batch size."
   ]
  },
  {
   "cell_type": "raw",
   "metadata": {},
   "source": [
    "This will not work because of different size of the last dimension of tensor (different length of char sequence)"
   ]
  },
  {
   "cell_type": "markdown",
   "metadata": {},
   "source": [
    "**(1.6) 5 points** Write a function **collate** that allows you to deal with batches of greater size. See [discussion](https://discuss.pytorch.org/t/dataloader-for-various-length-of-data/6418/8) for an example. Implement your function as a class ```__call__``` method to make it more flexible."
   ]
  },
  {
   "cell_type": "code",
   "execution_count": 9,
   "metadata": {},
   "outputs": [],
   "source": [
    "max_word_len = 0\n",
    "\n",
    "for word in train_words:\n",
    "    max_word_len = max(max_word_len, len(word))"
   ]
  },
  {
   "cell_type": "code",
   "execution_count": 10,
   "metadata": {},
   "outputs": [],
   "source": [
    "import torch.nn.functional as F\n",
    "from torch.nn.utils.rnn import pack_sequence\n",
    "\n",
    "def pad_tensor(vec, length, dim, pad_symbol):\n",
    "    \"\"\"\n",
    "    Pads a vector ``vec`` up to length ``length`` along axis ``dim`` with pad symbol ``pad_symbol``.\n",
    "    \"\"\"\n",
    "    pad_size = list(vec.shape)\n",
    "    pad_size[dim] = length - vec.size(dim)\n",
    "    return torch.cat((vec, torch.ones(*pad_size, dtype=torch.long) * pad_symbol), dim=dim)\n",
    "\n",
    "class Padder:\n",
    "    \n",
    "    def __init__(self, dim=0, pad_symbol=0):\n",
    "        self.dim = dim\n",
    "        self.pad_symbol = pad_symbol\n",
    "        \n",
    "    def pad_collate(self, batch):\n",
    "        \"\"\"\n",
    "        args:\n",
    "            batch - list of (tensor, label)\n",
    "\n",
    "        reutrn:\n",
    "            xs - a tensor of all examples in 'batch' after padding\n",
    "            ys - a LongTensor of all labels in batch\n",
    "        \"\"\"\n",
    "        # find longest sequence\n",
    "        max_len = max(map(lambda x: x[0].shape[self.dim], batch))\n",
    "        # pad according to max_len\n",
    "        batch = tuple(map(lambda batch: (\n",
    "            pad_tensor(batch[0], length=max_len, dim=self.dim, pad_symbol=self.pad_symbol), \n",
    "            pad_tensor(batch[1], length=max_len, dim=self.dim, pad_symbol=self.pad_symbol)\n",
    "        ), batch))\n",
    "        # stack all\n",
    "        xs = torch.stack(tuple(map(lambda x: x[0], batch)), dim=0)\n",
    "        ys = torch.stack(tuple(map(lambda x: x[1], batch)), dim=0)\n",
    "        return xs, ys\n",
    "\n",
    "        \n",
    "    def __call__(self, batch):\n",
    "        return self.pad_collate(batch)"
   ]
  },
  {
   "cell_type": "markdown",
   "metadata": {},
   "source": [
    "**(1.7) 1 points** Again, use ```torch.utils.data.DataLoader``` to obtain an iterable over batches. Print the shape of first 10 input batches with the batch size you like."
   ]
  },
  {
   "cell_type": "code",
   "execution_count": 11,
   "metadata": {},
   "outputs": [
    {
     "name": "stdout",
     "output_type": "stream",
     "text": [
      "X shape: torch.Size([5, 16])\ty shape: torch.Size([5, 16])\n",
      "X shape: torch.Size([5, 10])\ty shape: torch.Size([5, 10])\n",
      "X shape: torch.Size([5, 17])\ty shape: torch.Size([5, 17])\n",
      "X shape: torch.Size([5, 14])\ty shape: torch.Size([5, 14])\n",
      "X shape: torch.Size([5, 12])\ty shape: torch.Size([5, 12])\n",
      "X shape: torch.Size([5, 15])\ty shape: torch.Size([5, 15])\n",
      "X shape: torch.Size([5, 12])\ty shape: torch.Size([5, 12])\n",
      "X shape: torch.Size([5, 11])\ty shape: torch.Size([5, 11])\n",
      "X shape: torch.Size([5, 10])\ty shape: torch.Size([5, 10])\n",
      "X shape: torch.Size([5, 14])\ty shape: torch.Size([5, 14])\n"
     ]
    }
   ],
   "source": [
    "from torch.utils.data import DataLoader\n",
    "\n",
    "train_loader = DataLoader(\n",
    "    train_dataset,\n",
    "    batch_size=5,\n",
    "    shuffle=True,\n",
    "    collate_fn=Padder(dim=0, pad_symbol=vocab(['PAD'])[0])\n",
    ")\n",
    "\n",
    "for i, (X, y) in enumerate(train_loader):\n",
    "    if i == 10:\n",
    "        break\n",
    "    print(f'X shape: {X.shape}\\ty shape: {y.shape}')"
   ]
  },
  {
   "cell_type": "markdown",
   "metadata": {},
   "source": [
    "## Task 2. Character-based language modeling. (35 points)"
   ]
  },
  {
   "cell_type": "markdown",
   "metadata": {},
   "source": [
    "**2.1 (5 points)** Write a network that performs language modeling. It should include three layers:\n",
    "1. **Embedding** layer that transforms input symbols into vectors.\n",
    "2. An **RNN** layer that outputs a sequence of hidden states (you may use https://pytorch.org/docs/stable/nn.html#gru).\n",
    "3. A **Linear** layer with ``softmax`` activation that produces the output distribution for each symbol."
   ]
  },
  {
   "cell_type": "code",
   "execution_count": 12,
   "metadata": {},
   "outputs": [],
   "source": [
    "from torch import nn, optim\n",
    "\n",
    "class RNNLM(nn.Module):\n",
    "    def __init__(self, vocab_size, embeddings_dim, hidden_size):\n",
    "        super(RNNLM, self).__init__()\n",
    "        \n",
    "        self.hidden_size = hidden_size\n",
    "        self.embeddings = nn.Embedding(vocab_size, embeddings_dim)\n",
    "        self.gru = nn.GRU(embeddings_dim, hidden_size, batch_first=True)\n",
    "        self.fc = nn.Linear(hidden_size, vocab_size)\n",
    "        self.log_softmax = nn.LogSoftmax(dim=-1)\n",
    "        \n",
    "        \n",
    "    def forward(self, inputs, hidden=None):\n",
    "        embedded = self.embeddings(inputs)\n",
    "        h_seq, hidden = self.gru(embedded)\n",
    "        logits = self.fc(h_seq)\n",
    "        log_proba = self.log_softmax(logits)\n",
    "        return log_proba, hidden"
   ]
  },
  {
   "cell_type": "markdown",
   "metadata": {},
   "source": [
    "**2.2 (1 points)** Write a function ``validate_on_batch`` that takes as input a model, a batch of inputs and a batch of outputs, and the loss criterion, and outputs the loss tensor for the whole batch. This loss should not be normalized."
   ]
  },
  {
   "cell_type": "code",
   "execution_count": 13,
   "metadata": {},
   "outputs": [],
   "source": [
    "def validate_on_batch(model, criterion, x, y):\n",
    "    y_pred, _ = model(x)\n",
    "    return criterion(y_pred.view(-1, len(vocab)), y.view(-1))"
   ]
  },
  {
   "cell_type": "markdown",
   "metadata": {},
   "source": [
    "**2.3 (1 points)** Write a function ``train_on_batch`` that accepts all the arguments of ``validate_on_batch`` and also an optimizer, calculates loss and makes a single step of gradient optimization. This function should call ``validate_on_batch`` inside."
   ]
  },
  {
   "cell_type": "code",
   "execution_count": 14,
   "metadata": {},
   "outputs": [],
   "source": [
    "def train_on_batch(model, criterion, x, y, optimizer):\n",
    "    optimizer.zero_grad()\n",
    "    loss = validate_on_batch(model, criterion, x, y)[y.view(-1) != vocab(['PAD'])[0]].mean()\n",
    "    loss.backward()\n",
    "    optimizer.step()\n",
    "    return loss.item()"
   ]
  },
  {
   "cell_type": "markdown",
   "metadata": {},
   "source": [
    "**2.4 (3 points)** Write a training loop. You should define your ``RNNLM`` model, the criterion, the optimizer and the hyperparameters (number of epochs and batch size). Then train the model for a required number of epochs. On each epoch evaluate the average training loss and the average loss on the validation set. \n",
    "\n",
    "**2.5 (3 points)** Do not forget to average your loss over only non-padding symbols, otherwise it will be too optimistic."
   ]
  },
  {
   "cell_type": "code",
   "execution_count": 15,
   "metadata": {
    "scrolled": false
   },
   "outputs": [
    {
     "data": {
      "application/vnd.jupyter.widget-view+json": {
       "model_id": "f8655b691ea3456d8b0654c862bfcc8d",
       "version_major": 2,
       "version_minor": 0
      },
      "text/plain": [
       "HBox(children=(IntProgress(value=0, max=30), HTML(value='')))"
      ]
     },
     "metadata": {},
     "output_type": "display_data"
    },
    {
     "data": {
      "application/vnd.jupyter.widget-view+json": {
       "model_id": "",
       "version_major": 2,
       "version_minor": 0
      },
      "text/plain": [
       "HBox(children=(IntProgress(value=0, max=288), HTML(value='')))"
      ]
     },
     "metadata": {},
     "output_type": "display_data"
    },
    {
     "name": "stdout",
     "output_type": "stream",
     "text": [
      "epoch 0;  train_loss: 3.6;  valid_loss: 3.21;\n"
     ]
    },
    {
     "data": {
      "application/vnd.jupyter.widget-view+json": {
       "model_id": "",
       "version_major": 2,
       "version_minor": 0
      },
      "text/plain": [
       "HBox(children=(IntProgress(value=0, max=288), HTML(value='')))"
      ]
     },
     "metadata": {},
     "output_type": "display_data"
    },
    {
     "name": "stdout",
     "output_type": "stream",
     "text": [
      "epoch 1;  train_loss: 3.1;  valid_loss: 3.01;\n"
     ]
    },
    {
     "data": {
      "application/vnd.jupyter.widget-view+json": {
       "model_id": "",
       "version_major": 2,
       "version_minor": 0
      },
      "text/plain": [
       "HBox(children=(IntProgress(value=0, max=288), HTML(value='')))"
      ]
     },
     "metadata": {},
     "output_type": "display_data"
    },
    {
     "name": "stdout",
     "output_type": "stream",
     "text": [
      "epoch 2;  train_loss: 2.95;  valid_loss: 2.9;\n"
     ]
    },
    {
     "data": {
      "application/vnd.jupyter.widget-view+json": {
       "model_id": "",
       "version_major": 2,
       "version_minor": 0
      },
      "text/plain": [
       "HBox(children=(IntProgress(value=0, max=288), HTML(value='')))"
      ]
     },
     "metadata": {},
     "output_type": "display_data"
    },
    {
     "name": "stdout",
     "output_type": "stream",
     "text": [
      "epoch 3;  train_loss: 2.85;  valid_loss: 2.82;\n"
     ]
    },
    {
     "data": {
      "application/vnd.jupyter.widget-view+json": {
       "model_id": "",
       "version_major": 2,
       "version_minor": 0
      },
      "text/plain": [
       "HBox(children=(IntProgress(value=0, max=288), HTML(value='')))"
      ]
     },
     "metadata": {},
     "output_type": "display_data"
    },
    {
     "name": "stdout",
     "output_type": "stream",
     "text": [
      "epoch 4;  train_loss: 2.78;  valid_loss: 2.76;\n"
     ]
    },
    {
     "data": {
      "application/vnd.jupyter.widget-view+json": {
       "model_id": "",
       "version_major": 2,
       "version_minor": 0
      },
      "text/plain": [
       "HBox(children=(IntProgress(value=0, max=288), HTML(value='')))"
      ]
     },
     "metadata": {},
     "output_type": "display_data"
    },
    {
     "name": "stdout",
     "output_type": "stream",
     "text": [
      "epoch 5;  train_loss: 2.72;  valid_loss: 2.7;\n"
     ]
    },
    {
     "data": {
      "application/vnd.jupyter.widget-view+json": {
       "model_id": "",
       "version_major": 2,
       "version_minor": 0
      },
      "text/plain": [
       "HBox(children=(IntProgress(value=0, max=288), HTML(value='')))"
      ]
     },
     "metadata": {},
     "output_type": "display_data"
    },
    {
     "name": "stdout",
     "output_type": "stream",
     "text": [
      "epoch 6;  train_loss: 2.67;  valid_loss: 2.65;\n"
     ]
    },
    {
     "data": {
      "application/vnd.jupyter.widget-view+json": {
       "model_id": "",
       "version_major": 2,
       "version_minor": 0
      },
      "text/plain": [
       "HBox(children=(IntProgress(value=0, max=288), HTML(value='')))"
      ]
     },
     "metadata": {},
     "output_type": "display_data"
    },
    {
     "name": "stdout",
     "output_type": "stream",
     "text": [
      "epoch 7;  train_loss: 2.62;  valid_loss: 2.61;\n"
     ]
    },
    {
     "data": {
      "application/vnd.jupyter.widget-view+json": {
       "model_id": "",
       "version_major": 2,
       "version_minor": 0
      },
      "text/plain": [
       "HBox(children=(IntProgress(value=0, max=288), HTML(value='')))"
      ]
     },
     "metadata": {},
     "output_type": "display_data"
    },
    {
     "name": "stdout",
     "output_type": "stream",
     "text": [
      "epoch 8;  train_loss: 2.58;  valid_loss: 2.57;\n"
     ]
    },
    {
     "data": {
      "application/vnd.jupyter.widget-view+json": {
       "model_id": "",
       "version_major": 2,
       "version_minor": 0
      },
      "text/plain": [
       "HBox(children=(IntProgress(value=0, max=288), HTML(value='')))"
      ]
     },
     "metadata": {},
     "output_type": "display_data"
    },
    {
     "name": "stdout",
     "output_type": "stream",
     "text": [
      "epoch 9;  train_loss: 2.55;  valid_loss: 2.55;\n"
     ]
    },
    {
     "data": {
      "application/vnd.jupyter.widget-view+json": {
       "model_id": "",
       "version_major": 2,
       "version_minor": 0
      },
      "text/plain": [
       "HBox(children=(IntProgress(value=0, max=288), HTML(value='')))"
      ]
     },
     "metadata": {},
     "output_type": "display_data"
    },
    {
     "name": "stdout",
     "output_type": "stream",
     "text": [
      "epoch 10;  train_loss: 2.53;  valid_loss: 2.53;\n"
     ]
    },
    {
     "data": {
      "application/vnd.jupyter.widget-view+json": {
       "model_id": "",
       "version_major": 2,
       "version_minor": 0
      },
      "text/plain": [
       "HBox(children=(IntProgress(value=0, max=288), HTML(value='')))"
      ]
     },
     "metadata": {},
     "output_type": "display_data"
    },
    {
     "name": "stdout",
     "output_type": "stream",
     "text": [
      "epoch 11;  train_loss: 2.51;  valid_loss: 2.51;\n"
     ]
    },
    {
     "data": {
      "application/vnd.jupyter.widget-view+json": {
       "model_id": "",
       "version_major": 2,
       "version_minor": 0
      },
      "text/plain": [
       "HBox(children=(IntProgress(value=0, max=288), HTML(value='')))"
      ]
     },
     "metadata": {},
     "output_type": "display_data"
    },
    {
     "name": "stdout",
     "output_type": "stream",
     "text": [
      "epoch 12;  train_loss: 2.49;  valid_loss: 2.5;\n"
     ]
    },
    {
     "data": {
      "application/vnd.jupyter.widget-view+json": {
       "model_id": "",
       "version_major": 2,
       "version_minor": 0
      },
      "text/plain": [
       "HBox(children=(IntProgress(value=0, max=288), HTML(value='')))"
      ]
     },
     "metadata": {},
     "output_type": "display_data"
    },
    {
     "name": "stdout",
     "output_type": "stream",
     "text": [
      "epoch 13;  train_loss: 2.48;  valid_loss: 2.48;\n"
     ]
    },
    {
     "data": {
      "application/vnd.jupyter.widget-view+json": {
       "model_id": "",
       "version_major": 2,
       "version_minor": 0
      },
      "text/plain": [
       "HBox(children=(IntProgress(value=0, max=288), HTML(value='')))"
      ]
     },
     "metadata": {},
     "output_type": "display_data"
    },
    {
     "name": "stdout",
     "output_type": "stream",
     "text": [
      "epoch 14;  train_loss: 2.46;  valid_loss: 2.47;\n"
     ]
    },
    {
     "data": {
      "application/vnd.jupyter.widget-view+json": {
       "model_id": "",
       "version_major": 2,
       "version_minor": 0
      },
      "text/plain": [
       "HBox(children=(IntProgress(value=0, max=288), HTML(value='')))"
      ]
     },
     "metadata": {},
     "output_type": "display_data"
    },
    {
     "name": "stdout",
     "output_type": "stream",
     "text": [
      "epoch 15;  train_loss: 2.45;  valid_loss: 2.46;\n"
     ]
    },
    {
     "data": {
      "application/vnd.jupyter.widget-view+json": {
       "model_id": "",
       "version_major": 2,
       "version_minor": 0
      },
      "text/plain": [
       "HBox(children=(IntProgress(value=0, max=288), HTML(value='')))"
      ]
     },
     "metadata": {},
     "output_type": "display_data"
    },
    {
     "name": "stdout",
     "output_type": "stream",
     "text": [
      "epoch 16;  train_loss: 2.44;  valid_loss: 2.45;\n"
     ]
    },
    {
     "data": {
      "application/vnd.jupyter.widget-view+json": {
       "model_id": "",
       "version_major": 2,
       "version_minor": 0
      },
      "text/plain": [
       "HBox(children=(IntProgress(value=0, max=288), HTML(value='')))"
      ]
     },
     "metadata": {},
     "output_type": "display_data"
    },
    {
     "name": "stdout",
     "output_type": "stream",
     "text": [
      "epoch 17;  train_loss: 2.43;  valid_loss: 2.44;\n"
     ]
    },
    {
     "data": {
      "application/vnd.jupyter.widget-view+json": {
       "model_id": "",
       "version_major": 2,
       "version_minor": 0
      },
      "text/plain": [
       "HBox(children=(IntProgress(value=0, max=288), HTML(value='')))"
      ]
     },
     "metadata": {},
     "output_type": "display_data"
    },
    {
     "name": "stdout",
     "output_type": "stream",
     "text": [
      "epoch 18;  train_loss: 2.42;  valid_loss: 2.43;\n"
     ]
    },
    {
     "data": {
      "application/vnd.jupyter.widget-view+json": {
       "model_id": "",
       "version_major": 2,
       "version_minor": 0
      },
      "text/plain": [
       "HBox(children=(IntProgress(value=0, max=288), HTML(value='')))"
      ]
     },
     "metadata": {},
     "output_type": "display_data"
    },
    {
     "name": "stdout",
     "output_type": "stream",
     "text": [
      "epoch 19;  train_loss: 2.41;  valid_loss: 2.43;\n"
     ]
    },
    {
     "data": {
      "application/vnd.jupyter.widget-view+json": {
       "model_id": "",
       "version_major": 2,
       "version_minor": 0
      },
      "text/plain": [
       "HBox(children=(IntProgress(value=0, max=288), HTML(value='')))"
      ]
     },
     "metadata": {},
     "output_type": "display_data"
    },
    {
     "name": "stdout",
     "output_type": "stream",
     "text": [
      "epoch 20;  train_loss: 2.41;  valid_loss: 2.42;\n"
     ]
    },
    {
     "data": {
      "application/vnd.jupyter.widget-view+json": {
       "model_id": "",
       "version_major": 2,
       "version_minor": 0
      },
      "text/plain": [
       "HBox(children=(IntProgress(value=0, max=288), HTML(value='')))"
      ]
     },
     "metadata": {},
     "output_type": "display_data"
    },
    {
     "name": "stdout",
     "output_type": "stream",
     "text": [
      "epoch 21;  train_loss: 2.4;  valid_loss: 2.41;\n"
     ]
    },
    {
     "data": {
      "application/vnd.jupyter.widget-view+json": {
       "model_id": "",
       "version_major": 2,
       "version_minor": 0
      },
      "text/plain": [
       "HBox(children=(IntProgress(value=0, max=288), HTML(value='')))"
      ]
     },
     "metadata": {},
     "output_type": "display_data"
    },
    {
     "name": "stdout",
     "output_type": "stream",
     "text": [
      "epoch 22;  train_loss: 2.39;  valid_loss: 2.41;\n"
     ]
    },
    {
     "data": {
      "application/vnd.jupyter.widget-view+json": {
       "model_id": "",
       "version_major": 2,
       "version_minor": 0
      },
      "text/plain": [
       "HBox(children=(IntProgress(value=0, max=288), HTML(value='')))"
      ]
     },
     "metadata": {},
     "output_type": "display_data"
    },
    {
     "name": "stdout",
     "output_type": "stream",
     "text": [
      "epoch 23;  train_loss: 2.39;  valid_loss: 2.4;\n"
     ]
    },
    {
     "data": {
      "application/vnd.jupyter.widget-view+json": {
       "model_id": "",
       "version_major": 2,
       "version_minor": 0
      },
      "text/plain": [
       "HBox(children=(IntProgress(value=0, max=288), HTML(value='')))"
      ]
     },
     "metadata": {},
     "output_type": "display_data"
    },
    {
     "name": "stdout",
     "output_type": "stream",
     "text": [
      "epoch 24;  train_loss: 2.38;  valid_loss: 2.4;\n"
     ]
    },
    {
     "data": {
      "application/vnd.jupyter.widget-view+json": {
       "model_id": "",
       "version_major": 2,
       "version_minor": 0
      },
      "text/plain": [
       "HBox(children=(IntProgress(value=0, max=288), HTML(value='')))"
      ]
     },
     "metadata": {},
     "output_type": "display_data"
    },
    {
     "name": "stdout",
     "output_type": "stream",
     "text": [
      "epoch 25;  train_loss: 2.38;  valid_loss: 2.39;\n"
     ]
    },
    {
     "data": {
      "application/vnd.jupyter.widget-view+json": {
       "model_id": "",
       "version_major": 2,
       "version_minor": 0
      },
      "text/plain": [
       "HBox(children=(IntProgress(value=0, max=288), HTML(value='')))"
      ]
     },
     "metadata": {},
     "output_type": "display_data"
    },
    {
     "name": "stdout",
     "output_type": "stream",
     "text": [
      "epoch 26;  train_loss: 2.37;  valid_loss: 2.39;\n"
     ]
    },
    {
     "data": {
      "application/vnd.jupyter.widget-view+json": {
       "model_id": "",
       "version_major": 2,
       "version_minor": 0
      },
      "text/plain": [
       "HBox(children=(IntProgress(value=0, max=288), HTML(value='')))"
      ]
     },
     "metadata": {},
     "output_type": "display_data"
    },
    {
     "name": "stdout",
     "output_type": "stream",
     "text": [
      "epoch 27;  train_loss: 2.37;  valid_loss: 2.38;\n"
     ]
    },
    {
     "data": {
      "application/vnd.jupyter.widget-view+json": {
       "model_id": "",
       "version_major": 2,
       "version_minor": 0
      },
      "text/plain": [
       "HBox(children=(IntProgress(value=0, max=288), HTML(value='')))"
      ]
     },
     "metadata": {},
     "output_type": "display_data"
    },
    {
     "name": "stdout",
     "output_type": "stream",
     "text": [
      "epoch 28;  train_loss: 2.36;  valid_loss: 2.38;\n"
     ]
    },
    {
     "data": {
      "application/vnd.jupyter.widget-view+json": {
       "model_id": "",
       "version_major": 2,
       "version_minor": 0
      },
      "text/plain": [
       "HBox(children=(IntProgress(value=0, max=288), HTML(value='')))"
      ]
     },
     "metadata": {},
     "output_type": "display_data"
    },
    {
     "name": "stdout",
     "output_type": "stream",
     "text": [
      "epoch 29;  train_loss: 2.36;  valid_loss: 2.38;\n",
      "\n"
     ]
    }
   ],
   "source": [
    "from tqdm import tqdm_notebook\n",
    "\n",
    "vocab_size = len(vocab)\n",
    "embeddings_dim = 32\n",
    "hidden_size = 16\n",
    "epochs = 30\n",
    "batch_size = 32\n",
    "\n",
    "train_loader = DataLoader(\n",
    "    train_dataset,\n",
    "    batch_size=batch_size,\n",
    "    shuffle=True,\n",
    "    collate_fn=Padder(dim=0, pad_symbol=vocab(['PAD'])[0])\n",
    ")\n",
    "\n",
    "dev_loader = DataLoader(\n",
    "    dev_dataset,\n",
    "    batch_size=batch_size,\n",
    "    collate_fn=Padder(dim=0, pad_symbol=vocab(['PAD'])[0])\n",
    ")\n",
    "\n",
    "model = RNNLM(vocab_size, embeddings_dim, hidden_size)\n",
    "optimizer = optim.Adam(model.parameters(), lr=3e-4)\n",
    "criterion = nn.NLLLoss(reduction='none')\n",
    "train_losses = []\n",
    "valid_losses = []\n",
    "\n",
    "for i in tqdm_notebook(range(epochs)):\n",
    "    model.train()\n",
    "    train_loss = 0\n",
    "    for x_batch, y_batch in tqdm_notebook(train_loader, leave=False):\n",
    "        train_loss += train_on_batch(model, criterion, x_batch, y_batch, optimizer) / len(train_loader)\n",
    "    train_losses.append(train_loss)\n",
    "    \n",
    "    valid_loss = 0\n",
    "    model.eval()\n",
    "    for x_batch, y_batch in dev_loader:\n",
    "        with torch.no_grad():\n",
    "            valid_loss += validate_on_batch(\n",
    "                model,\n",
    "                criterion,\n",
    "                x_batch,\n",
    "                y_batch\n",
    "            )[y_batch.view(-1) != vocab(['PAD'])[0]].mean().item() / len(dev_loader)\n",
    "    print(f'epoch {i};  train_loss: {round(train_loss, 2)};  valid_loss: {round(valid_loss, 2)};')\n",
    "    valid_losses.append(valid_loss)"
   ]
  },
  {
   "cell_type": "code",
   "execution_count": 16,
   "metadata": {},
   "outputs": [
    {
     "data": {
      "image/png": "[encoded data removed]",
      "text/plain": [
       "<Figure size 720x432 with 1 Axes>"
      ]
     },
     "metadata": {
      "needs_background": "light"
     },
     "output_type": "display_data"
    }
   ],
   "source": [
    "import matplotlib.pyplot as plt\n",
    "\n",
    "plt.figure(figsize=(10, 6))\n",
    "plt.plot(train_losses, label='Train loss')\n",
    "plt.plot(valid_losses, label='Validation loss')\n",
    "plt.xlabel('Epoch')\n",
    "plt.ylabel('Loss')\n",
    "plt.legend();"
   ]
  },
  {
   "cell_type": "markdown",
   "metadata": {},
   "source": [
    "**2.6 (5 points)** Write a function **predict_on_batch** that outputs letter probabilities of all words in the batch."
   ]
  },
  {
   "cell_type": "code",
   "execution_count": 17,
   "metadata": {},
   "outputs": [],
   "source": [
    "def predict_on_batch(model, x):\n",
    "    return torch.exp(model(x)[0])"
   ]
  },
  {
   "cell_type": "markdown",
   "metadata": {},
   "source": [
    "**2.7 (1 points)** Calculate the letter probabilities for all words in the test dataset. Print them for 20 last words. Do not forget to disable shuffling in the ``DataLoader``."
   ]
  },
  {
   "cell_type": "code",
   "execution_count": 18,
   "metadata": {},
   "outputs": [
    {
     "name": "stdout",
     "output_type": "stream",
     "text": [
      "torch.Size([20, 21, 53])\n",
      "tensor([[[8.4355e-06, 1.5646e-05, 1.6380e-04,  ..., 3.2341e-05,\n",
      "          3.0856e-05, 1.7045e-05],\n",
      "         [1.8494e-05, 2.3376e-05, 4.8973e-04,  ..., 7.6958e-05,\n",
      "          6.5294e-05, 3.8473e-05],\n",
      "         [1.1703e-05, 1.6181e-05, 1.2231e-04,  ..., 3.9259e-05,\n",
      "          2.2254e-05, 1.3041e-05],\n",
      "         ...,\n",
      "         [1.6491e-05, 9.1268e-06, 7.9332e-01,  ..., 2.8613e-05,\n",
      "          2.9386e-05, 2.8387e-05],\n",
      "         [1.4688e-05, 9.8362e-06, 5.9252e-01,  ..., 2.9533e-05,\n",
      "          3.7831e-05, 2.9496e-05],\n",
      "         [1.0816e-05, 7.7232e-06, 4.7162e-01,  ..., 2.2560e-05,\n",
      "          3.1111e-05, 2.1382e-05]],\n",
      "\n",
      "        [[8.4355e-06, 1.5646e-05, 1.6380e-04,  ..., 3.2341e-05,\n",
      "          3.0856e-05, 1.7045e-05],\n",
      "         [7.0933e-06, 9.0333e-06, 9.2750e-04,  ..., 2.1621e-05,\n",
      "          1.8832e-05, 7.5539e-06],\n",
      "         [1.1114e-05, 1.6653e-05, 1.1288e-04,  ..., 3.3935e-05,\n",
      "          2.0749e-05, 9.3002e-06],\n",
      "         ...,\n",
      "         [2.5273e-06, 1.9285e-06, 5.9457e-01,  ..., 6.0186e-06,\n",
      "          7.6380e-06, 4.8218e-06],\n",
      "         [2.8700e-06, 2.2366e-06, 5.6164e-01,  ..., 6.7144e-06,\n",
      "          9.2306e-06, 5.6265e-06],\n",
      "         [3.1459e-06, 2.4408e-06, 5.2306e-01,  ..., 7.1882e-06,\n",
      "          1.0062e-05, 5.9999e-06]],\n",
      "\n",
      "        [[8.4355e-06, 1.5646e-05, 1.6380e-04,  ..., 3.2341e-05,\n",
      "          3.0856e-05, 1.7045e-05],\n",
      "         [5.4420e-05, 4.7129e-05, 6.2139e-04,  ..., 1.5067e-04,\n",
      "          7.3356e-05, 5.5043e-05],\n",
      "         [9.9961e-06, 8.4663e-06, 7.9526e-03,  ..., 2.7579e-05,\n",
      "          1.3143e-05, 1.2708e-05],\n",
      "         ...,\n",
      "         [3.6890e-06, 2.7812e-06, 3.6954e-01,  ..., 8.2333e-06,\n",
      "          1.1536e-05, 6.3837e-06],\n",
      "         [3.1727e-06, 2.4153e-06, 3.8854e-01,  ..., 7.1824e-06,\n",
      "          1.0053e-05, 5.5150e-06],\n",
      "         [2.8706e-06, 2.2001e-06, 4.0587e-01,  ..., 6.5555e-06,\n",
      "          9.1790e-06, 5.0171e-06]],\n",
      "\n",
      "        ...,\n",
      "\n",
      "        [[8.4355e-06, 1.5646e-05, 1.6380e-04,  ..., 3.2341e-05,\n",
      "          3.0856e-05, 1.7045e-05],\n",
      "         [9.1704e-06, 9.4319e-06, 3.3087e-04,  ..., 2.7887e-05,\n",
      "          1.9458e-05, 9.3674e-06],\n",
      "         [9.0149e-06, 1.1823e-05, 1.1497e-04,  ..., 2.8739e-05,\n",
      "          1.5703e-05, 8.6925e-06],\n",
      "         ...,\n",
      "         [3.3543e-06, 2.5557e-06, 4.2009e-01,  ..., 7.5360e-06,\n",
      "          1.0646e-05, 5.9697e-06],\n",
      "         [3.0856e-06, 2.3619e-06, 4.2758e-01,  ..., 6.9859e-06,\n",
      "          9.8552e-06, 5.4915e-06],\n",
      "         [2.9108e-06, 2.2357e-06, 4.3440e-01,  ..., 6.6254e-06,\n",
      "          9.3402e-06, 5.1860e-06]],\n",
      "\n",
      "        [[8.4355e-06, 1.5646e-05, 1.6380e-04,  ..., 3.2341e-05,\n",
      "          3.0856e-05, 1.7045e-05],\n",
      "         [1.7907e-05, 1.6763e-05, 5.4228e-04,  ..., 6.0687e-05,\n",
      "          3.3181e-05, 2.4770e-05],\n",
      "         [1.8924e-05, 2.4141e-05, 1.5682e-03,  ..., 6.3987e-05,\n",
      "          2.8380e-05, 2.8718e-05],\n",
      "         ...,\n",
      "         [3.6328e-06, 2.7560e-06, 4.1324e-01,  ..., 8.0993e-06,\n",
      "          1.1457e-05, 6.4630e-06],\n",
      "         [3.2642e-06, 2.4906e-06, 4.2126e-01,  ..., 7.3511e-06,\n",
      "          1.0377e-05, 5.8027e-06],\n",
      "         [3.0234e-06, 2.3168e-06, 4.2894e-01,  ..., 6.8573e-06,\n",
      "          9.6693e-06, 5.3781e-06]],\n",
      "\n",
      "        [[8.4355e-06, 1.5646e-05, 1.6380e-04,  ..., 3.2341e-05,\n",
      "          3.0856e-05, 1.7045e-05],\n",
      "         [2.5915e-06, 2.1636e-06, 3.3613e-04,  ..., 9.8011e-06,\n",
      "          6.1704e-06, 3.1728e-06],\n",
      "         [1.7430e-05, 1.8218e-05, 2.1037e-04,  ..., 6.1711e-05,\n",
      "          2.6597e-05, 1.6623e-05],\n",
      "         ...,\n",
      "         [2.5653e-06, 1.9745e-06, 3.7850e-01,  ..., 5.9723e-06,\n",
      "          8.2407e-06, 4.4050e-06],\n",
      "         [2.4256e-06, 1.8758e-06, 4.0305e-01,  ..., 5.6519e-06,\n",
      "          7.8448e-06, 4.2055e-06],\n",
      "         [2.3730e-06, 1.8397e-06, 4.2197e-01,  ..., 5.5238e-06,\n",
      "          7.7016e-06, 4.1508e-06]]])\n"
     ]
    }
   ],
   "source": [
    "test_loader = DataLoader(\n",
    "    test_dataset,\n",
    "    batch_size=32,\n",
    "    collate_fn=Padder(dim=0, pad_symbol=vocab(['PAD'])[0])\n",
    ")\n",
    "\n",
    "model.eval()\n",
    "\n",
    "with torch.no_grad():\n",
    "    for x_batch, y_batch in test_loader:\n",
    "        letter_proba = predict_on_batch(model, x_batch)\n",
    "print(letter_proba[:20].shape)\n",
    "print(letter_proba[:20])"
   ]
  },
  {
   "cell_type": "markdown",
   "metadata": {},
   "source": [
    "**2.8 (5 points)** Write a function that generates a single word (sequence of indexes) given the model. Do not forget about the hidden state! Be careful about start and end symbol indexes. Use ``torch.multinomial`` for sampling."
   ]
  },
  {
   "cell_type": "code",
   "execution_count": 19,
   "metadata": {},
   "outputs": [
    {
     "name": "stdout",
     "output_type": "stream",
     "text": [
      "гройшивтабнокогойада\n"
     ]
    }
   ],
   "source": [
    "def generate(model, max_length=20, start_index=1, end_index=2):\n",
    "    model.eval()\n",
    "    \n",
    "    with torch.no_grad():\n",
    "        word = [[1]]\n",
    "        hidden = None\n",
    "        for i in range(max_length):\n",
    "            x = torch.LongTensor([[word[0][-1]]])\n",
    "            logproba, hidden = model(x, hidden)\n",
    "            letter_proba = torch.exp(logproba)\n",
    "            letter = torch.multinomial(letter_proba[0][0], 1).item()#.item()#.argmax(dim=-1)[0][-1].item()\n",
    "            word[0].append(letter)\n",
    "            if letter == end_index:\n",
    "                break\n",
    "        print(''.join(\n",
    "            [vocab[letter_idx] for letter_idx in word[0]\n",
    "             if letter_idx not in [start_index, end_index]]\n",
    "        ))\n",
    "\n",
    "generate(model)"
   ]
  },
  {
   "cell_type": "markdown",
   "metadata": {},
   "source": [
    "**2.9 (1 points)** Use ``generate`` to sample 20 pseudowords. Do not forget to transform indexes to letters."
   ]
  },
  {
   "cell_type": "code",
   "execution_count": 20,
   "metadata": {},
   "outputs": [
    {
     "name": "stdout",
     "output_type": "stream",
     "text": [
      "пый\n",
      "вшкяжикатины\n",
      "сябахПшижьнсьсягомым\n",
      "кдамуням\n",
      "евофхчев\n",
      "поврнёдойскющьленомя\n",
      "дегочам\n",
      "а\n",
      "вкьтабакащах\n",
      "писстьныногаташьскра\n",
      "ух\n",
      "римуХёций\n",
      "кохмифёщънцимцачъМШа\n",
      "ипыюшивкакатя\n",
      "патамосем\n",
      "гоютебебрыхоезътьтрг\n",
      "ку\n",
      "бужий\n",
      "зиебежисчиЭшважуНирф\n",
      "кавтаямиглумымутжейт\n"
     ]
    }
   ],
   "source": [
    "for i in range(20):\n",
    "    generate(model)"
   ]
  },
  {
   "cell_type": "markdown",
   "metadata": {},
   "source": [
    "**(2.10) 5 points** Write a batched version of the generation function. You should sample the following symbol only for the words that are not finished yet, so apply a boolean mask to trace active words."
   ]
  },
  {
   "cell_type": "code",
   "execution_count": null,
   "metadata": {},
   "outputs": [],
   "source": [
    "def generate_batch(model, batch_size, max_length = 20, start_index=1, end_index=2):\n",
    "    \"\"\"\n",
    "    == YOUR CODE HERE ==\n",
    "    \"\"\""
   ]
  },
  {
   "cell_type": "code",
   "execution_count": null,
   "metadata": {},
   "outputs": [],
   "source": [
    "generated = []\n",
    "for _ in range(2):\n",
    "    generated += generate_batch(model, batch_size=10)\n",
    "\"\"\"\n",
    "== YOUR CODE HERE ==\n",
    "\"\"\"\n",
    "for elem in transformed:\n",
    "    print(\"\".join(elem))"
   ]
  },
  {
   "cell_type": "markdown",
   "metadata": {},
   "source": [
    "**(2.11) 5 points** Experiment with the type of RNN, number of layers, units and/or dropout to improve the perplexity of the model."
   ]
  },
  {
   "cell_type": "code",
   "execution_count": 21,
   "metadata": {},
   "outputs": [],
   "source": [
    "class LSTM_LM(nn.Module):\n",
    "    def __init__(self, vocab_size, embeddings_dim, hidden_size):\n",
    "        super(LSTM_LM, self).__init__()\n",
    "        \n",
    "        self.hidden_size = hidden_size\n",
    "        self.embeddings = nn.Embedding(vocab_size, embeddings_dim)\n",
    "        self.lstm = nn.LSTM(embeddings_dim, hidden_size, num_layers=2, batch_first=True)\n",
    "        self.fc1 = nn.Linear(hidden_size, hidden_size // 2)\n",
    "        self.relu = nn.ReLU()\n",
    "        self.fc2 = nn.Linear(hidden_size // 2, vocab_size)\n",
    "\n",
    "        self.log_softmax = nn.LogSoftmax(dim=-1)\n",
    "        \n",
    "        \n",
    "    def forward(self, inputs, hidden=None):\n",
    "        embedded = self.embeddings(inputs)\n",
    "        h_seq, hidden = self.lstm(embedded)\n",
    "        fc_out = self.relu(self.fc1(h_seq))\n",
    "        logits = self.fc2(fc_out)\n",
    "        \n",
    "        log_proba = self.log_softmax(logits)\n",
    "        return log_proba, hidden"
   ]
  },
  {
   "cell_type": "code",
   "execution_count": 22,
   "metadata": {
    "scrolled": false
   },
   "outputs": [
    {
     "data": {
      "application/vnd.jupyter.widget-view+json": {
       "model_id": "831f2be36db94910ba3214f1b0cc06e3",
       "version_major": 2,
       "version_minor": 0
      },
      "text/plain": [
       "HBox(children=(IntProgress(value=0, max=30), HTML(value='')))"
      ]
     },
     "metadata": {},
     "output_type": "display_data"
    },
    {
     "data": {
      "application/vnd.jupyter.widget-view+json": {
       "model_id": "",
       "version_major": 2,
       "version_minor": 0
      },
      "text/plain": [
       "HBox(children=(IntProgress(value=0, max=288), HTML(value='')))"
      ]
     },
     "metadata": {},
     "output_type": "display_data"
    },
    {
     "name": "stdout",
     "output_type": "stream",
     "text": [
      "epoch 0;  train_loss: 3.23;  valid_loss: 3.01;\n"
     ]
    },
    {
     "data": {
      "application/vnd.jupyter.widget-view+json": {
       "model_id": "",
       "version_major": 2,
       "version_minor": 0
      },
      "text/plain": [
       "HBox(children=(IntProgress(value=0, max=288), HTML(value='')))"
      ]
     },
     "metadata": {},
     "output_type": "display_data"
    },
    {
     "name": "stdout",
     "output_type": "stream",
     "text": [
      "epoch 1;  train_loss: 2.97;  valid_loss: 2.88;\n"
     ]
    },
    {
     "data": {
      "application/vnd.jupyter.widget-view+json": {
       "model_id": "",
       "version_major": 2,
       "version_minor": 0
      },
      "text/plain": [
       "HBox(children=(IntProgress(value=0, max=288), HTML(value='')))"
      ]
     },
     "metadata": {},
     "output_type": "display_data"
    },
    {
     "name": "stdout",
     "output_type": "stream",
     "text": [
      "epoch 2;  train_loss: 2.72;  valid_loss: 2.64;\n"
     ]
    },
    {
     "data": {
      "application/vnd.jupyter.widget-view+json": {
       "model_id": "",
       "version_major": 2,
       "version_minor": 0
      },
      "text/plain": [
       "HBox(children=(IntProgress(value=0, max=288), HTML(value='')))"
      ]
     },
     "metadata": {},
     "output_type": "display_data"
    },
    {
     "name": "stdout",
     "output_type": "stream",
     "text": [
      "epoch 3;  train_loss: 2.61;  valid_loss: 2.58;\n"
     ]
    },
    {
     "data": {
      "application/vnd.jupyter.widget-view+json": {
       "model_id": "",
       "version_major": 2,
       "version_minor": 0
      },
      "text/plain": [
       "HBox(children=(IntProgress(value=0, max=288), HTML(value='')))"
      ]
     },
     "metadata": {},
     "output_type": "display_data"
    },
    {
     "name": "stdout",
     "output_type": "stream",
     "text": [
      "epoch 4;  train_loss: 2.54;  valid_loss: 2.51;\n"
     ]
    },
    {
     "data": {
      "application/vnd.jupyter.widget-view+json": {
       "model_id": "",
       "version_major": 2,
       "version_minor": 0
      },
      "text/plain": [
       "HBox(children=(IntProgress(value=0, max=288), HTML(value='')))"
      ]
     },
     "metadata": {},
     "output_type": "display_data"
    },
    {
     "name": "stdout",
     "output_type": "stream",
     "text": [
      "epoch 5;  train_loss: 2.48;  valid_loss: 2.46;\n"
     ]
    },
    {
     "data": {
      "application/vnd.jupyter.widget-view+json": {
       "model_id": "",
       "version_major": 2,
       "version_minor": 0
      },
      "text/plain": [
       "HBox(children=(IntProgress(value=0, max=288), HTML(value='')))"
      ]
     },
     "metadata": {},
     "output_type": "display_data"
    },
    {
     "name": "stdout",
     "output_type": "stream",
     "text": [
      "epoch 6;  train_loss: 2.42;  valid_loss: 2.41;\n"
     ]
    },
    {
     "data": {
      "application/vnd.jupyter.widget-view+json": {
       "model_id": "",
       "version_major": 2,
       "version_minor": 0
      },
      "text/plain": [
       "HBox(children=(IntProgress(value=0, max=288), HTML(value='')))"
      ]
     },
     "metadata": {},
     "output_type": "display_data"
    },
    {
     "name": "stdout",
     "output_type": "stream",
     "text": [
      "epoch 7;  train_loss: 2.37;  valid_loss: 2.38;\n"
     ]
    },
    {
     "data": {
      "application/vnd.jupyter.widget-view+json": {
       "model_id": "",
       "version_major": 2,
       "version_minor": 0
      },
      "text/plain": [
       "HBox(children=(IntProgress(value=0, max=288), HTML(value='')))"
      ]
     },
     "metadata": {},
     "output_type": "display_data"
    },
    {
     "name": "stdout",
     "output_type": "stream",
     "text": [
      "epoch 8;  train_loss: 2.33;  valid_loss: 2.33;\n"
     ]
    },
    {
     "data": {
      "application/vnd.jupyter.widget-view+json": {
       "model_id": "",
       "version_major": 2,
       "version_minor": 0
      },
      "text/plain": [
       "HBox(children=(IntProgress(value=0, max=288), HTML(value='')))"
      ]
     },
     "metadata": {},
     "output_type": "display_data"
    },
    {
     "name": "stdout",
     "output_type": "stream",
     "text": [
      "epoch 9;  train_loss: 2.3;  valid_loss: 2.31;\n"
     ]
    },
    {
     "data": {
      "application/vnd.jupyter.widget-view+json": {
       "model_id": "",
       "version_major": 2,
       "version_minor": 0
      },
      "text/plain": [
       "HBox(children=(IntProgress(value=0, max=288), HTML(value='')))"
      ]
     },
     "metadata": {},
     "output_type": "display_data"
    },
    {
     "name": "stdout",
     "output_type": "stream",
     "text": [
      "epoch 10;  train_loss: 2.27;  valid_loss: 2.28;\n"
     ]
    },
    {
     "data": {
      "application/vnd.jupyter.widget-view+json": {
       "model_id": "",
       "version_major": 2,
       "version_minor": 0
      },
      "text/plain": [
       "HBox(children=(IntProgress(value=0, max=288), HTML(value='')))"
      ]
     },
     "metadata": {},
     "output_type": "display_data"
    },
    {
     "name": "stdout",
     "output_type": "stream",
     "text": [
      "epoch 11;  train_loss: 2.24;  valid_loss: 2.26;\n"
     ]
    },
    {
     "data": {
      "application/vnd.jupyter.widget-view+json": {
       "model_id": "",
       "version_major": 2,
       "version_minor": 0
      },
      "text/plain": [
       "HBox(children=(IntProgress(value=0, max=288), HTML(value='')))"
      ]
     },
     "metadata": {},
     "output_type": "display_data"
    },
    {
     "name": "stdout",
     "output_type": "stream",
     "text": [
      "epoch 12;  train_loss: 2.21;  valid_loss: 2.23;\n"
     ]
    },
    {
     "data": {
      "application/vnd.jupyter.widget-view+json": {
       "model_id": "",
       "version_major": 2,
       "version_minor": 0
      },
      "text/plain": [
       "HBox(children=(IntProgress(value=0, max=288), HTML(value='')))"
      ]
     },
     "metadata": {},
     "output_type": "display_data"
    },
    {
     "name": "stdout",
     "output_type": "stream",
     "text": [
      "epoch 13;  train_loss: 2.19;  valid_loss: 2.22;\n"
     ]
    },
    {
     "data": {
      "application/vnd.jupyter.widget-view+json": {
       "model_id": "",
       "version_major": 2,
       "version_minor": 0
      },
      "text/plain": [
       "HBox(children=(IntProgress(value=0, max=288), HTML(value='')))"
      ]
     },
     "metadata": {},
     "output_type": "display_data"
    },
    {
     "name": "stdout",
     "output_type": "stream",
     "text": [
      "epoch 14;  train_loss: 2.16;  valid_loss: 2.19;\n"
     ]
    },
    {
     "data": {
      "application/vnd.jupyter.widget-view+json": {
       "model_id": "",
       "version_major": 2,
       "version_minor": 0
      },
      "text/plain": [
       "HBox(children=(IntProgress(value=0, max=288), HTML(value='')))"
      ]
     },
     "metadata": {},
     "output_type": "display_data"
    },
    {
     "name": "stdout",
     "output_type": "stream",
     "text": [
      "epoch 15;  train_loss: 2.14;  valid_loss: 2.18;\n"
     ]
    },
    {
     "data": {
      "application/vnd.jupyter.widget-view+json": {
       "model_id": "",
       "version_major": 2,
       "version_minor": 0
      },
      "text/plain": [
       "HBox(children=(IntProgress(value=0, max=288), HTML(value='')))"
      ]
     },
     "metadata": {},
     "output_type": "display_data"
    },
    {
     "name": "stdout",
     "output_type": "stream",
     "text": [
      "epoch 16;  train_loss: 2.12;  valid_loss: 2.18;\n"
     ]
    },
    {
     "data": {
      "application/vnd.jupyter.widget-view+json": {
       "model_id": "",
       "version_major": 2,
       "version_minor": 0
      },
      "text/plain": [
       "HBox(children=(IntProgress(value=0, max=288), HTML(value='')))"
      ]
     },
     "metadata": {},
     "output_type": "display_data"
    },
    {
     "name": "stdout",
     "output_type": "stream",
     "text": [
      "epoch 17;  train_loss: 2.11;  valid_loss: 2.16;\n"
     ]
    },
    {
     "data": {
      "application/vnd.jupyter.widget-view+json": {
       "model_id": "",
       "version_major": 2,
       "version_minor": 0
      },
      "text/plain": [
       "HBox(children=(IntProgress(value=0, max=288), HTML(value='')))"
      ]
     },
     "metadata": {},
     "output_type": "display_data"
    },
    {
     "name": "stdout",
     "output_type": "stream",
     "text": [
      "epoch 18;  train_loss: 2.09;  valid_loss: 2.15;\n"
     ]
    },
    {
     "data": {
      "application/vnd.jupyter.widget-view+json": {
       "model_id": "",
       "version_major": 2,
       "version_minor": 0
      },
      "text/plain": [
       "HBox(children=(IntProgress(value=0, max=288), HTML(value='')))"
      ]
     },
     "metadata": {},
     "output_type": "display_data"
    },
    {
     "name": "stdout",
     "output_type": "stream",
     "text": [
      "epoch 19;  train_loss: 2.07;  valid_loss: 2.14;\n"
     ]
    },
    {
     "data": {
      "application/vnd.jupyter.widget-view+json": {
       "model_id": "",
       "version_major": 2,
       "version_minor": 0
      },
      "text/plain": [
       "HBox(children=(IntProgress(value=0, max=288), HTML(value='')))"
      ]
     },
     "metadata": {},
     "output_type": "display_data"
    },
    {
     "name": "stdout",
     "output_type": "stream",
     "text": [
      "epoch 20;  train_loss: 2.05;  valid_loss: 2.13;\n"
     ]
    },
    {
     "data": {
      "application/vnd.jupyter.widget-view+json": {
       "model_id": "",
       "version_major": 2,
       "version_minor": 0
      },
      "text/plain": [
       "HBox(children=(IntProgress(value=0, max=288), HTML(value='')))"
      ]
     },
     "metadata": {},
     "output_type": "display_data"
    },
    {
     "name": "stdout",
     "output_type": "stream",
     "text": [
      "epoch 21;  train_loss: 2.04;  valid_loss: 2.12;\n"
     ]
    },
    {
     "data": {
      "application/vnd.jupyter.widget-view+json": {
       "model_id": "",
       "version_major": 2,
       "version_minor": 0
      },
      "text/plain": [
       "HBox(children=(IntProgress(value=0, max=288), HTML(value='')))"
      ]
     },
     "metadata": {},
     "output_type": "display_data"
    },
    {
     "name": "stdout",
     "output_type": "stream",
     "text": [
      "epoch 22;  train_loss: 2.03;  valid_loss: 2.11;\n"
     ]
    },
    {
     "data": {
      "application/vnd.jupyter.widget-view+json": {
       "model_id": "",
       "version_major": 2,
       "version_minor": 0
      },
      "text/plain": [
       "HBox(children=(IntProgress(value=0, max=288), HTML(value='')))"
      ]
     },
     "metadata": {},
     "output_type": "display_data"
    },
    {
     "name": "stdout",
     "output_type": "stream",
     "text": [
      "epoch 23;  train_loss: 2.01;  valid_loss: 2.11;\n"
     ]
    },
    {
     "data": {
      "application/vnd.jupyter.widget-view+json": {
       "model_id": "",
       "version_major": 2,
       "version_minor": 0
      },
      "text/plain": [
       "HBox(children=(IntProgress(value=0, max=288), HTML(value='')))"
      ]
     },
     "metadata": {},
     "output_type": "display_data"
    },
    {
     "name": "stdout",
     "output_type": "stream",
     "text": [
      "epoch 24;  train_loss: 2.0;  valid_loss: 2.1;\n"
     ]
    },
    {
     "data": {
      "application/vnd.jupyter.widget-view+json": {
       "model_id": "",
       "version_major": 2,
       "version_minor": 0
      },
      "text/plain": [
       "HBox(children=(IntProgress(value=0, max=288), HTML(value='')))"
      ]
     },
     "metadata": {},
     "output_type": "display_data"
    },
    {
     "name": "stdout",
     "output_type": "stream",
     "text": [
      "epoch 25;  train_loss: 1.99;  valid_loss: 2.1;\n"
     ]
    },
    {
     "data": {
      "application/vnd.jupyter.widget-view+json": {
       "model_id": "",
       "version_major": 2,
       "version_minor": 0
      },
      "text/plain": [
       "HBox(children=(IntProgress(value=0, max=288), HTML(value='')))"
      ]
     },
     "metadata": {},
     "output_type": "display_data"
    },
    {
     "name": "stdout",
     "output_type": "stream",
     "text": [
      "epoch 26;  train_loss: 1.98;  valid_loss: 2.09;\n"
     ]
    },
    {
     "data": {
      "application/vnd.jupyter.widget-view+json": {
       "model_id": "",
       "version_major": 2,
       "version_minor": 0
      },
      "text/plain": [
       "HBox(children=(IntProgress(value=0, max=288), HTML(value='')))"
      ]
     },
     "metadata": {},
     "output_type": "display_data"
    },
    {
     "name": "stdout",
     "output_type": "stream",
     "text": [
      "epoch 27;  train_loss: 1.96;  valid_loss: 2.09;\n"
     ]
    },
    {
     "data": {
      "application/vnd.jupyter.widget-view+json": {
       "model_id": "",
       "version_major": 2,
       "version_minor": 0
      },
      "text/plain": [
       "HBox(children=(IntProgress(value=0, max=288), HTML(value='')))"
      ]
     },
     "metadata": {},
     "output_type": "display_data"
    },
    {
     "name": "stdout",
     "output_type": "stream",
     "text": [
      "epoch 28;  train_loss: 1.95;  valid_loss: 2.09;\n"
     ]
    },
    {
     "data": {
      "application/vnd.jupyter.widget-view+json": {
       "model_id": "",
       "version_major": 2,
       "version_minor": 0
      },
      "text/plain": [
       "HBox(children=(IntProgress(value=0, max=288), HTML(value='')))"
      ]
     },
     "metadata": {},
     "output_type": "display_data"
    },
    {
     "name": "stdout",
     "output_type": "stream",
     "text": [
      "epoch 29;  train_loss: 1.94;  valid_loss: 2.08;\n",
      "\n"
     ]
    }
   ],
   "source": [
    "vocab_size = len(vocab)\n",
    "embeddings_dim = 32\n",
    "hidden_size = 128\n",
    "epochs = 30\n",
    "batch_size = 32\n",
    "\n",
    "train_loader = DataLoader(\n",
    "    train_dataset,\n",
    "    batch_size=batch_size,\n",
    "    shuffle=True,\n",
    "    collate_fn=Padder(dim=0, pad_symbol=vocab(['PAD'])[0])\n",
    ")\n",
    "\n",
    "dev_loader = DataLoader(\n",
    "    dev_dataset,\n",
    "    batch_size=batch_size,\n",
    "    collate_fn=Padder(dim=0, pad_symbol=vocab(['PAD'])[0])\n",
    ")\n",
    "\n",
    "model = LSTM_LM(vocab_size, embeddings_dim, hidden_size)\n",
    "optimizer = optim.Adam(model.parameters(), lr=3e-4)\n",
    "criterion = nn.NLLLoss(reduction='none')\n",
    "train_losses = []\n",
    "valid_losses = []\n",
    "\n",
    "for i in tqdm_notebook(range(epochs)):\n",
    "    model.train()\n",
    "    train_loss = 0\n",
    "    for x_batch, y_batch in tqdm_notebook(train_loader, leave=False):\n",
    "        train_loss += train_on_batch(model, criterion, x_batch, y_batch, optimizer) / len(train_loader)\n",
    "    train_losses.append(train_loss)\n",
    "    \n",
    "    valid_loss = 0\n",
    "    model.eval()\n",
    "    for x_batch, y_batch in dev_loader:\n",
    "        with torch.no_grad():\n",
    "            valid_loss += validate_on_batch(\n",
    "                model,\n",
    "                criterion,\n",
    "                x_batch,\n",
    "                y_batch\n",
    "            )[y_batch.view(-1) != vocab(['PAD'])[0]].mean().item() / len(dev_loader)\n",
    "    print(f'epoch {i};  train_loss: {round(train_loss, 2)};  valid_loss: {round(valid_loss, 2)};')\n",
    "    valid_losses.append(valid_loss)"
   ]
  },
  {
   "cell_type": "code",
   "execution_count": 23,
   "metadata": {
    "scrolled": false
   },
   "outputs": [
    {
     "data": {
      "image/png": "[encoded data removed]",
      "text/plain": [
       "<Figure size 720x432 with 1 Axes>"
      ]
     },
     "metadata": {
      "needs_background": "light"
     },
     "output_type": "display_data"
    }
   ],
   "source": [
    "plt.figure(figsize=(10, 6))\n",
    "plt.plot(train_losses, label='Train loss')\n",
    "plt.plot(valid_losses, label='Validation loss')\n",
    "plt.xlabel('Epoch')\n",
    "plt.ylabel('Loss')\n",
    "plt.legend();"
   ]
  },
  {
   "cell_type": "code",
   "execution_count": 24,
   "metadata": {},
   "outputs": [
    {
     "name": "stdout",
     "output_type": "stream",
     "text": [
      "шбонбопкХпкуёуяхидыш\n",
      "ифзко\n",
      "пскиЕэщюйквсстиюЗМпр\n",
      "ошхуьщтвокочжлцуАшщь\n",
      "оаыёшНктсшскшХхзюржг\n",
      "сахъькиПатдйхкопксШс\n",
      "ппдостшвстпсимгмеечн\n",
      "зрбахозийюсквсвоЭгщф\n",
      "аьРеБжпцщэ\n",
      "вжсаёяфинтсаохинчгд\n",
      "пвнятйяйвщЗявоштеёкр\n",
      "мствояхтятюэй\n",
      "косща\n",
      "гугахма\n",
      "аюнемпчейХбатшсндвх\n",
      "бнтдсжичзмиёлмйздСам\n",
      "отвсзсвспкустфъцатс\n",
      "иыкчUNKХужеммдсмвсэПбу\n",
      "ухужеЭммчбсштееотрпв\n",
      "дуииш-кдужМяжэмЛжяй\n"
     ]
    }
   ],
   "source": [
    "for i in range(20):\n",
    "    generate(model)"
   ]
  }
 ],
 "metadata": {
  "kernelspec": {
   "display_name": "Python 3",
   "language": "python",
   "name": "python3"
  },
  "language_info": {
   "codemirror_mode": {
    "name": "ipython",
    "version": 3
   },
   "file_extension": ".py",
   "mimetype": "text/x-python",
   "name": "python",
   "nbconvert_exporter": "python",
   "pygments_lexer": "ipython3",
   "version": "3.7.6"
  }
 },
 "nbformat": 4,
 "nbformat_minor": 4
}
